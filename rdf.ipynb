{
 "cells": [
  {
   "cell_type": "code",
   "execution_count": 2,
   "metadata": {},
   "outputs": [],
   "source": [
    "import MDAnalysis as mda\n",
    "from MDAnalysis.analysis import rdf\n",
    "import numpy as np\n",
    "import math\n",
    "import pandas as pd\n",
    "import matplotlib.pyplot as plt"
   ]
  },
  {
   "cell_type": "code",
   "execution_count": 4,
   "metadata": {},
   "outputs": [],
   "source": [
    "u = mda.Universe('6.6_2.gro','old_trajs/rep1_skip10.xtc')\n",
    "a = u.select_atoms('(resid 22) and (name NH1 NH2)')\n",
    "a1 = u.select_atoms('(resid 33) and (name NZ)')\n",
    "\n",
    "PL = u.select_atoms('resname POPC DOPE SAPI and (type O)')\n"
   ]
  },
  {
   "cell_type": "code",
   "execution_count": 8,
   "metadata": {},
   "outputs": [],
   "source": [
    "irdf1 = rdf.InterRDF(a,PL,\n",
    "                    nbins=150,\n",
    "                    range=(0.0, 20.0),\n",
    "                    )\n",
    "irdf2 = rdf.InterRDF(a1,PL,\n",
    "                    nbins=150,\n",
    "                    range=(0.0, 20.0),\n",
    "                    )"
   ]
  },
  {
   "cell_type": "code",
   "execution_count": 9,
   "metadata": {},
   "outputs": [
    {
     "name": "stderr",
     "output_type": "stream",
     "text": [
      "/home/jaybraun/miniconda3/lib/python3.9/site-packages/MDAnalysis/analysis/rdf.py:417: DeprecationWarning: The `bins` attribute was deprecated in MDAnalysis 2.0.0 and will be removed in MDAnalysis 3.0.0. Please use `results.bins` instead\n",
      "  warnings.warn(wmsg, DeprecationWarning)\n"
     ]
    },
    {
     "data": {
      "text/plain": [
       "array([ 0.06666667,  0.2       ,  0.33333333,  0.46666667,  0.6       ,\n",
       "        0.73333333,  0.86666667,  1.        ,  1.13333333,  1.26666667,\n",
       "        1.4       ,  1.53333333,  1.66666667,  1.8       ,  1.93333333,\n",
       "        2.06666667,  2.2       ,  2.33333333,  2.46666667,  2.6       ,\n",
       "        2.73333333,  2.86666667,  3.        ,  3.13333333,  3.26666667,\n",
       "        3.4       ,  3.53333333,  3.66666667,  3.8       ,  3.93333333,\n",
       "        4.06666667,  4.2       ,  4.33333333,  4.46666667,  4.6       ,\n",
       "        4.73333333,  4.86666667,  5.        ,  5.13333333,  5.26666667,\n",
       "        5.4       ,  5.53333333,  5.66666667,  5.8       ,  5.93333333,\n",
       "        6.06666667,  6.2       ,  6.33333333,  6.46666667,  6.6       ,\n",
       "        6.73333333,  6.86666667,  7.        ,  7.13333333,  7.26666667,\n",
       "        7.4       ,  7.53333333,  7.66666667,  7.8       ,  7.93333333,\n",
       "        8.06666667,  8.2       ,  8.33333333,  8.46666667,  8.6       ,\n",
       "        8.73333333,  8.86666667,  9.        ,  9.13333333,  9.26666667,\n",
       "        9.4       ,  9.53333333,  9.66666667,  9.8       ,  9.93333333,\n",
       "       10.06666667, 10.2       , 10.33333333, 10.46666667, 10.6       ,\n",
       "       10.73333333, 10.86666667, 11.        , 11.13333333, 11.26666667,\n",
       "       11.4       , 11.53333333, 11.66666667, 11.8       , 11.93333333,\n",
       "       12.06666667, 12.2       , 12.33333333, 12.46666667, 12.6       ,\n",
       "       12.73333333, 12.86666667, 13.        , 13.13333333, 13.26666667,\n",
       "       13.4       , 13.53333333, 13.66666667, 13.8       , 13.93333333,\n",
       "       14.06666667, 14.2       , 14.33333333, 14.46666667, 14.6       ,\n",
       "       14.73333333, 14.86666667, 15.        , 15.13333333, 15.26666667,\n",
       "       15.4       , 15.53333333, 15.66666667, 15.8       , 15.93333333,\n",
       "       16.06666667, 16.2       , 16.33333333, 16.46666667, 16.6       ,\n",
       "       16.73333333, 16.86666667, 17.        , 17.13333333, 17.26666667,\n",
       "       17.4       , 17.53333333, 17.66666667, 17.8       , 17.93333333,\n",
       "       18.06666667, 18.2       , 18.33333333, 18.46666667, 18.6       ,\n",
       "       18.73333333, 18.86666667, 19.        , 19.13333333, 19.26666667,\n",
       "       19.4       , 19.53333333, 19.66666667, 19.8       , 19.93333333])"
      ]
     },
     "execution_count": 9,
     "metadata": {},
     "output_type": "execute_result"
    }
   ],
   "source": [
    "irdf1.run()\n",
    "irdf2.run()\n",
    "\n",
    "irdf1.bins\n",
    "irdf2.bins"
   ]
  },
  {
   "cell_type": "code",
   "execution_count": 27,
   "metadata": {},
   "outputs": [
    {
     "name": "stderr",
     "output_type": "stream",
     "text": [
      "/home/jaybraun/miniconda3/lib/python3.9/site-packages/MDAnalysis/analysis/rdf.py:417: DeprecationWarning: The `bins` attribute was deprecated in MDAnalysis 2.0.0 and will be removed in MDAnalysis 3.0.0. Please use `results.bins` instead\n",
      "  warnings.warn(wmsg, DeprecationWarning)\n",
      "/home/jaybraun/miniconda3/lib/python3.9/site-packages/MDAnalysis/analysis/rdf.py:425: DeprecationWarning: The `rdf` attribute was deprecated in MDAnalysis 2.0.0 and will be removed in MDAnalysis 3.0.0. Please use `results.rdf` instead\n",
      "  warnings.warn(wmsg, DeprecationWarning)\n",
      "/home/jaybraun/miniconda3/lib/python3.9/site-packages/MDAnalysis/analysis/rdf.py:417: DeprecationWarning: The `bins` attribute was deprecated in MDAnalysis 2.0.0 and will be removed in MDAnalysis 3.0.0. Please use `results.bins` instead\n",
      "  warnings.warn(wmsg, DeprecationWarning)\n",
      "/home/jaybraun/miniconda3/lib/python3.9/site-packages/MDAnalysis/analysis/rdf.py:425: DeprecationWarning: The `rdf` attribute was deprecated in MDAnalysis 2.0.0 and will be removed in MDAnalysis 3.0.0. Please use `results.rdf` instead\n",
      "  warnings.warn(wmsg, DeprecationWarning)\n"
     ]
    },
    {
     "data": {
      "image/png": "[encoded data removed]",
      "text/plain": [
       "<Figure size 432x288 with 1 Axes>"
      ]
     },
     "metadata": {
      "needs_background": "light"
     },
     "output_type": "display_data"
    }
   ],
   "source": [
    "irdf1.bins\n",
    "fig ,ax = plt.subplots()\n",
    "plt.plot(irdf1.bins, irdf1.rdf, label='ARG (229) nitrogen - PL oxygen',marker = '.', markersize=14)\n",
    "plt.plot(irdf2.bins, irdf2.rdf, label='LYS (240) nitrogen - PL oxygen', marker='*', markersize =10)\n",
    "\n",
    "# plt.plot(irdf.bins, irdf3.rdf, label='Q35 (NH) - resid 7 (cys) S')\n",
    "# plt.plot(irdf.bins, irdf4.rdf, label='Q35 (NH) - resid 11 (trp) N')\n",
    "plt.legend()\n",
    "plt.xlabel('Radius (angstrom)')\n",
    "plt.ylabel('Radial distribution')\n",
    "# plt.ylim(0,17500)\n",
    "#plt.title('ARG (resid 22) nitrogen to PL oxygen')\n",
    "plt.savefig('arg_lys_rdf.png', dpi=200)\n",
    "plt.show()"
   ]
  },
  {
   "cell_type": "code",
   "execution_count": null,
   "metadata": {},
   "outputs": [],
   "source": []
  }
 ],
 "metadata": {
  "kernelspec": {
   "display_name": "Python 3 (ipykernel)",
   "language": "python",
   "name": "python3"
  },
  "language_info": {
   "codemirror_mode": {
    "name": "ipython",
    "version": 3
   },
   "file_extension": ".py",
   "mimetype": "text/x-python",
   "name": "python",
   "nbconvert_exporter": "python",
   "pygments_lexer": "ipython3",
   "version": "3.9.7"
  }
 },
 "nbformat": 4,
 "nbformat_minor": 4
}
