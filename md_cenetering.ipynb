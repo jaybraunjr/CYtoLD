{
 "cells": [
  {
   "cell_type": "code",
   "execution_count": 1,
   "id": "3aebdd1e",
   "metadata": {},
   "outputs": [],
   "source": [
    "## centers protein\n"
   ]
  },
  {
   "cell_type": "code",
   "execution_count": 2,
   "id": "2c43dc29",
   "metadata": {},
   "outputs": [
    {
     "name": "stderr",
     "output_type": "stream",
     "text": [
      "/home/jaybraun/miniconda3/lib/python3.9/site-packages/MDAnalysis/coordinates/XDR.py:215: UserWarning: Reload offsets from trajectory\n",
      " ctime or size or n_atoms did not match\n",
      "  warnings.warn(\"Reload offsets from trajectory\\n \"\n"
     ]
    }
   ],
   "source": [
    "import MDAnalysis as mda\n",
    "from MDAnalysis.coordinates import XTC\n",
    "\n",
    "# Load the Universe with the topology and trajectory files\n",
    "u = mda.Universe('bsc2_trajs/tg/center.gro', 'bsc2_trajs/tg/center.xtc')\n",
    "\n",
    "# Select the protein\n",
    "protein = u.select_atoms('protein')\n",
    "\n",
    "# Define the center of the box in x and y\n",
    "center = u.dimensions[:2] / 2.0\n",
    "\n",
    "with XTC.XTCWriter('bsc2_trajs/tg/center_prot.xtc', u.atoms.n_atoms) as W:\n",
    "    for ts in u.trajectory:\n",
    "        # Calculate the center of mass of the protein in the x-y plane\n",
    "        com = protein.center_of_mass()[:2]\n",
    "        # Calculate the translation vector, leaving z unchanged\n",
    "        translation_vector = center - com\n",
    "        translation_vector = [*translation_vector, 0.0]\n",
    "\n",
    "        # Translate the protein so its center of mass is at the center of the box in the x-y plane\n",
    "        protein.translate(translation_vector)\n",
    "        \n",
    "        # Write the entire Universe (including all molecules) to the trajectory\n",
    "        W.write(u.atoms)"
   ]
  },
  {
   "cell_type": "code",
   "execution_count": null,
   "id": "f81cb0d9",
   "metadata": {},
   "outputs": [],
   "source": []
  }
 ],
 "metadata": {
  "kernelspec": {
   "display_name": "Python 3 (ipykernel)",
   "language": "python",
   "name": "python3"
  },
  "language_info": {
   "codemirror_mode": {
    "name": "ipython",
    "version": 3
   },
   "file_extension": ".py",
   "mimetype": "text/x-python",
   "name": "python",
   "nbconvert_exporter": "python",
   "pygments_lexer": "ipython3",
   "version": "3.9.7"
  }
 },
 "nbformat": 4,
 "nbformat_minor": 5
}
