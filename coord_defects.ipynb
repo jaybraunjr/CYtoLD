{
 "cells": [
  {
   "cell_type": "code",
   "execution_count": 8,
   "id": "4df35333",
   "metadata": {},
   "outputs": [],
   "source": [
    "\n",
    "from __future__ import absolute_import, division, print_function\n",
    "import numpy as np\n",
    "from MDAnalysis.analysis.distances import distance_array\n",
    "from MDAnalysis.core.groups import AtomGroup\n",
    "import MDAnalysis as mda\n"
   ]
  },
  {
   "cell_type": "code",
   "execution_count": 9,
   "id": "0fafedb4",
   "metadata": {},
   "outputs": [],
   "source": [
    "import pandas as pd\n",
    "import matplotlib.pyplot as plt"
   ]
  },
  {
   "cell_type": "code",
   "execution_count": 10,
   "id": "ed28a745",
   "metadata": {},
   "outputs": [],
   "source": [
    "u = mda.Universe('../6.6_2.gro','../old_trajs/rep4_skip10.xtc')"
   ]
  },
  {
   "cell_type": "code",
   "execution_count": 11,
   "id": "d99f31de",
   "metadata": {},
   "outputs": [],
   "source": [
    "class Coord:\n",
    "    \n",
    "    def __init__(self):\n",
    "        pass\n",
    "\n",
    "    def run(self, ag1, ag2, nn=6, mm=12, d0=0, r0=3.5, density=False, b=0, e=None, skip=1):\n",
    "        \n",
    "\n",
    "        assert isinstance(ag1, AtomGroup)\n",
    "        assert isinstance(ag2, AtomGroup)\n",
    "        u = ag1.universe\n",
    "\n",
    "        times = []; coords = []\n",
    "        for i, ts in enumerate(u.trajectory[b:e:skip]):\n",
    "            times.append(i)\n",
    "            d = distance_array(ag1.positions, ag2.positions, box=u.dimensions)\n",
    "            d[ d < d0 ] = 1\n",
    "            D = (d - d0)/r0\n",
    "            sij = (1 - np.power(D, nn))/(1 - np.power(D, mm))\n",
    "            coords.append(np.sum(sij))\n",
    "        \n",
    "        if density:\n",
    "            coords = np.array(coords)\n",
    "            coords /= (ag1.n_atoms * ag2.n_atoms)\n",
    "        \n",
    "        return np.transpose([times, coords])\n",
    "\n",
    "\n",
    "    def contact(self, ag1, ag2, rcut, density=False, b=0, e=None, skip=1):\n",
    "\n",
    "        assert isinstance(ag1, AtomGroup)\n",
    "        assert isinstance(ag2, AtomGroup)\n",
    "        u = ag1.universe\n",
    "\n",
    "        times = []; coords = []\n",
    "        for i, ts in enumerate(u.trajectory[b:e:skip]):\n",
    "            times.append(i)\n",
    "            d = distance_array(ag1.positions, ag2.positions, box=u.dimensions)\n",
    "            d[ d <= rcut ] = 1\n",
    "            d[ d >  rcut ] = 0\n",
    "            coords.append(np.sum(d))\n",
    "        \n",
    "        if density:\n",
    "            coords = np.array(coords)\n",
    "            coords /= (ag1.n_atoms * ag2.n_atoms)\n",
    "        \n",
    "        return np.transpose([times, coords])\n",
    "        "
   ]
  },
  {
   "cell_type": "code",
   "execution_count": null,
   "id": "00dd3f19",
   "metadata": {},
   "outputs": [],
   "source": []
  },
  {
   "cell_type": "code",
   "execution_count": null,
   "id": "f307e881",
   "metadata": {},
   "outputs": [],
   "source": []
  },
  {
   "cell_type": "markdown",
   "id": "176810c1",
   "metadata": {},
   "source": [
    "Plan here:\n",
    "will make coordination groups for multiple types of packing defects.\n",
    "\n",
    "- 7 groups for PL\n",
    "- 5 goups for TG\n",
    "\n",
    "will test:\n",
    "- hydrophobes\n",
    "- polars\n",
    "- charged\n"
   ]
  },
  {
   "cell_type": "code",
   "execution_count": 12,
   "id": "38bdc855",
   "metadata": {},
   "outputs": [],
   "source": [
    "PL_A = u.select_atoms('resname POPC DOPE and (name C15C C14  C13 N C12 \\\n",
    "                     C11 C11A C11B)')\n",
    "PL_B = u.select_atoms('resname POPC DOPE and (name P O12 O11 O13 O14)')\n",
    "PL_C = u.select_atoms('resname POPC DOPE and (name C1 C2  C21 O21 O22 C3  C31 O31 O32)')\n",
    "PL_D = u.select_atoms('resname POPC DOPE  and (name C22 C23 C24 C25 C26  \\\n",
    "                        C32 C33 C34 C35 C36 C36 )')\n",
    "PL_E = u.select_atoms('resname POPC DOPE and (name C27 C28 C29 C210  C37 C38 C39 C310 H7X H7Y )')\n",
    "PL_F = u.select_atoms('resname POPC DOPE and (name C311 C312 C313 C314 C315 \\\n",
    "                     C211 C212 C213 C214 C215 )')\n",
    "PL_G = u.select_atoms('resname POPC DOPE and (name C216 C217 C218  \\\n",
    "                        C316 C317 C318 )')"
   ]
  },
  {
   "cell_type": "code",
   "execution_count": 202,
   "id": "2a5ef429",
   "metadata": {},
   "outputs": [],
   "source": [
    "PL_A = u.select_atoms('resname POPC DOPE and (name C15 H15A H15B H15C C14 H14A H14B H14C C13 H13A H13B H13B N C12 \\\n",
    "                     H12A H12B C11 C11A C11B)')\n",
    "PL_B = u.select_atoms('resname POPC DOPE and (name P O12 O11 O13 O14)')\n",
    "PL_C = u.select_atoms('resname POPC DOPE and (name C1 C2 HA HB C21 O21 O22 C3 HX HY C31 O31 O32)')\n",
    "PL_D = u.select_atoms('resname POPC DOPE  and (name C22 C23 C24 C25 C26 H3R H3S H2R H2S H4R H4S H5R H5S H6R H6S \\\n",
    "                        C32 C33 C34 C35 C36 C36 H2X H2Y H3X H3Y H4X H4Y H5X H5Y H6X H6Y)')\n",
    "PL_E = u.select_atoms('resname POPC DOPE and (name C27 C28 C29 C210 H7R H7S H8R H8S H9R H10R C37 C38 C39 C310 H7X H7Y H8X H8Y H9X H10X)')\n",
    "PL_F = u.select_atoms('resname POPC DOPE and (name C311 C312 C313 C314 C315 H11X H11Y H12X H12Y H13X H13Y H14X H14Y \\\n",
    "                     C211 C212 C213 C214 C215 H11R H11S H12R H12S H13R H13S H14R H14S H15R H15S)')\n",
    "PL_G = u.select_atoms('resname POPC DOPE and (name C216 C217 C218 H16R H16S H17R H17S H18R H18S H18T \\\n",
    "                        C316 C317 C318 H16X H16Y H17X H17Y H18X H18Y H18Z)')"
   ]
  },
  {
   "cell_type": "code",
   "execution_count": null,
   "id": "1423839c",
   "metadata": {},
   "outputs": [],
   "source": [
    "C15 H15A H15B H15C C14 H14A H14B H14C C13 H13A H13B H13B N C12 H12A H12B C11 C11A C11B P O12 O11 O13 O14 C1 C2 HA HB C21 O21 O22 C3 HX HY C31 O31 O32"
   ]
  },
  {
   "cell_type": "code",
   "execution_count": null,
   "id": "0063cec6",
   "metadata": {},
   "outputs": [],
   "source": []
  },
  {
   "cell_type": "code",
   "execution_count": 203,
   "id": "a3d1c680",
   "metadata": {},
   "outputs": [],
   "source": [
    "TG_A = u.select_atoms('resname TRIO and (name O21 O22 C21 C3 O31 O32 C2 HS C1 HA HB  O11 O12 C11 C22 C32 C12 )')\n",
    "TG_B = u.select_atoms('resname TRIO and (name   C23 C24 C25 C26 H3R H3S H2R H2S H4R H4S H5R H5S H6R H6S  C33 C34 C35 C36 C36 H2X H2Y H3X H3Y H4X H4Y H5X H5Y H6X H6Y \\\n",
    "                         C13 C14 C15 C16 H3A H3B H2A H2B H4A H4B H5A H5B H6A H6B )')\n",
    "TG_C = u.select_atoms('resname TRIO and (name C27 C28 C29 C210 H7R H7S H8R H8S H9R H10R C37 C38 C39 C310 H7X H7Y H8X H8Y H9X H10X \\\n",
    "                        C17 C18 C19 C110 H7A H7B H8A H8B H9A H10A)')\n",
    "TG_D = u.select_atoms('resname TRIO and (name C311 C312 C313 C314 C315 H11X H11Y H12X H12Y H13X H13Y H14X H14Y \\\n",
    "                     C211 C212 C213 C214 C215 H11R H11S H12R H12S H13R H13S H14R H14S H15R H15S \\\n",
    "                        C111 C112 C113 C114 C115 H11A H11B H12A H12B H13A H13B H14A H14B H15A H15B)')\n",
    "TG_E = u.select_atoms('resname TRIO and (name C216 C217 C218 H16R H16S H17R H17S H18R H18S H18T \\\n",
    "                        C316 C317 C318 H16X H16Y H17X H17Y H18X H18Y H18Z C116 C117 C118 H16A H16B H17A H17B H18A H18B H18C)')\n"
   ]
  },
  {
   "cell_type": "code",
   "execution_count": 204,
   "id": "6ecd24a1",
   "metadata": {},
   "outputs": [
    {
     "data": {
      "text/plain": [
       "<AtomGroup with 3768 atoms>"
      ]
     },
     "execution_count": 204,
     "metadata": {},
     "output_type": "execute_result"
    }
   ],
   "source": [
    "PL_G"
   ]
  },
  {
   "cell_type": "code",
   "execution_count": 31,
   "id": "476ce4bb",
   "metadata": {},
   "outputs": [],
   "source": [
    "a = u.select_atoms('resid 22 and name NH1 NH2')"
   ]
  },
  {
   "cell_type": "code",
   "execution_count": 32,
   "id": "2ed3ae89",
   "metadata": {},
   "outputs": [
    {
     "data": {
      "text/plain": [
       "<AtomGroup with 2 atoms>"
      ]
     },
     "execution_count": 32,
     "metadata": {},
     "output_type": "execute_result"
    }
   ],
   "source": [
    "a"
   ]
  },
  {
   "cell_type": "code",
   "execution_count": 25,
   "id": "a2456ece",
   "metadata": {},
   "outputs": [],
   "source": [
    "cog = a.center_of_geometry()\n",
    "com = a.center_of_mass()"
   ]
  },
  {
   "cell_type": "code",
   "execution_count": 27,
   "id": "5d429493",
   "metadata": {},
   "outputs": [
    {
     "data": {
      "text/plain": [
       "array([ 31.59250212,   2.92250019, 176.92750168])"
      ]
     },
     "execution_count": 27,
     "metadata": {},
     "output_type": "execute_result"
    }
   ],
   "source": [
    "com"
   ]
  },
  {
   "cell_type": "markdown",
   "id": "c684bf27",
   "metadata": {},
   "source": [
    "Now we will start to create the scripting to account for the different groups and coordination number\n",
    "- start with PLs, then TGs \n",
    "- return the coordination numbers\n",
    "- "
   ]
  },
  {
   "cell_type": "code",
   "execution_count": 28,
   "id": "febdc722",
   "metadata": {
    "scrolled": true
   },
   "outputs": [
    {
     "data": {
      "text/plain": [
       "<AtomGroup with 4 atoms>"
      ]
     },
     "execution_count": 28,
     "metadata": {},
     "output_type": "execute_result"
    }
   ],
   "source": [
    "a"
   ]
  },
  {
   "cell_type": "code",
   "execution_count": 217,
   "id": "fcd5060f",
   "metadata": {},
   "outputs": [],
   "source": [
    "time = 100\n",
    "time_e = 200"
   ]
  },
  {
   "cell_type": "code",
   "execution_count": 33,
   "id": "2072cef9",
   "metadata": {},
   "outputs": [],
   "source": [
    "pl_1 =Coord().run(a,PL_A)\n",
    "pl_2 =Coord().run(a,PL_B)\n",
    "pl_3 =Coord().run(a,PL_C)\n",
    "pl_4 =Coord().run(a,PL_D)\n",
    "pl_5 =Coord().run(a,PL_E)\n",
    "pl_6 =Coord().run(a,PL_F)\n",
    "pl_7 =Coord().run(a,PL_G)"
   ]
  },
  {
   "cell_type": "code",
   "execution_count": 34,
   "id": "82b2dda3",
   "metadata": {},
   "outputs": [],
   "source": [
    "av_a  = np.average(pl_1[:,1])\n",
    "av_b  = np.average(pl_2[:,1])\n",
    "av_c  = np.average(pl_3[:,1])\n",
    "av_d  = np.average(pl_4[:,1])\n",
    "av_e  = np.average(pl_5[:,1])\n",
    "av_f  = np.average(pl_6[:,1])\n",
    "av_g  = np.average(pl_7[:,1])"
   ]
  },
  {
   "cell_type": "code",
   "execution_count": 35,
   "id": "dd642af9",
   "metadata": {},
   "outputs": [],
   "source": [
    "std_a  = np.std(pl_1[:,1])\n",
    "std_b  = np.std(pl_2[:,1])\n",
    "std_c  = np.std(pl_3[:,1])\n",
    "std_d  = np.std(pl_4[:,1])\n",
    "std_e  = np.std(pl_5[:,1])\n",
    "std_f  = np.std(pl_6[:,1])\n",
    "std_g  = np.std(pl_7[:,1])"
   ]
  },
  {
   "cell_type": "code",
   "execution_count": 36,
   "id": "8127d0ff",
   "metadata": {},
   "outputs": [
    {
     "data": {
      "text/plain": [
       "0.16825215280835157"
      ]
     },
     "execution_count": 36,
     "metadata": {},
     "output_type": "execute_result"
    }
   ],
   "source": [
    "std_g"
   ]
  },
  {
   "cell_type": "code",
   "execution_count": 37,
   "id": "e7c11596",
   "metadata": {},
   "outputs": [
    {
     "data": {
      "text/plain": [
       "[<matplotlib.lines.Line2D at 0x7f47d34b2a90>]"
      ]
     },
     "execution_count": 37,
     "metadata": {},
     "output_type": "execute_result"
    },
    {
     "data": {
      "image/png": "[encoded data removed]",
      "text/plain": [
       "<Figure size 640x480 with 1 Axes>"
      ]
     },
     "metadata": {},
     "output_type": "display_data"
    }
   ],
   "source": [
    "plt.plot(std_g)"
   ]
  },
  {
   "cell_type": "code",
   "execution_count": 38,
   "id": "0fc6943f",
   "metadata": {},
   "outputs": [],
   "source": [
    "# std_a  = np.std(pl_1[:,1])/ np.sqrt(len(pl_1[:,1]))\n",
    "# std_b  = np.std(pl_2[:,1])/ np.sqrt(len(pl_1[:,1]))\n",
    "# std_c  = np.std(pl_3[:,1])/ np.sqrt(len(pl_1[:,1]))\n",
    "# std_d  = np.std(pl_4[:,1])/ np.sqrt(len(pl_1[:,1]))\n",
    "# std_e  = np.std(pl_5[:,1])/ np.sqrt(len(pl_1[:,1]))\n",
    "# std_f  = np.std(pl_6[:,1])/ np.sqrt(len(pl_1[:,1]))\n",
    "# std_g  = np.std(pl_7[:,1])/ np.sqrt(len(pl_1[:,1]))"
   ]
  },
  {
   "cell_type": "code",
   "execution_count": 39,
   "id": "28cdc58c",
   "metadata": {},
   "outputs": [
    {
     "data": {
      "text/plain": [
       "31.63858403911275"
      ]
     },
     "execution_count": 39,
     "metadata": {},
     "output_type": "execute_result"
    }
   ],
   "source": [
    "np.sqrt(len(pl_1[:,1]))"
   ]
  },
  {
   "cell_type": "code",
   "execution_count": null,
   "id": "0f16fe8c",
   "metadata": {},
   "outputs": [],
   "source": []
  },
  {
   "cell_type": "code",
   "execution_count": 40,
   "id": "5600cd1f",
   "metadata": {},
   "outputs": [],
   "source": [
    "ls = [av_a, av_b,av_c,av_d,av_e,av_f,av_g]\n",
    "ls_yerr  = [std_a,std_b,std_c,std_d,std_e,std_f,std_g]"
   ]
  },
  {
   "cell_type": "code",
   "execution_count": 41,
   "id": "686d8978",
   "metadata": {
    "scrolled": true
   },
   "outputs": [
    {
     "data": {
      "text/plain": [
       "[0.7057055278285101,\n",
       " 2.189834748309738,\n",
       " 1.831953149342791,\n",
       " 0.8173382172719275,\n",
       " 0.4706750112250846,\n",
       " 0.16752128348967052,\n",
       " 0.16825215280835157]"
      ]
     },
     "execution_count": 41,
     "metadata": {},
     "output_type": "execute_result"
    }
   ],
   "source": [
    "ls_yerr"
   ]
  },
  {
   "cell_type": "code",
   "execution_count": 42,
   "id": "988ec0ed",
   "metadata": {},
   "outputs": [
    {
     "data": {
      "text/plain": [
       "[0.9348612385632614,\n",
       " 3.6648345502973467,\n",
       " 2.7120437013080934,\n",
       " 1.031083001972029,\n",
       " 0.243210741634427,\n",
       " 0.07366848145194102,\n",
       " 0.04161293292579521]"
      ]
     },
     "execution_count": 42,
     "metadata": {},
     "output_type": "execute_result"
    }
   ],
   "source": [
    "ls"
   ]
  },
  {
   "cell_type": "code",
   "execution_count": 43,
   "id": "8a558db5",
   "metadata": {},
   "outputs": [
    {
     "data": {
      "text/plain": [
       "<ErrorbarContainer object of 3 artists>"
      ]
     },
     "execution_count": 43,
     "metadata": {},
     "output_type": "execute_result"
    },
    {
     "data": {
      "image/png": "[encoded data removed]",
      "text/plain": [
       "<Figure size 640x480 with 1 Axes>"
      ]
     },
     "metadata": {},
     "output_type": "display_data"
    }
   ],
   "source": [
    "plt.plot(ls)\n",
    "plt.errorbar(x=[1,2,3,4,5,6,7],y=ls, \n",
    "             yerr = ls_yerr,\n",
    "             fmt ='')"
   ]
  },
  {
   "cell_type": "code",
   "execution_count": 44,
   "id": "d511dfc4",
   "metadata": {},
   "outputs": [],
   "source": [
    "df_pl_av = pd.DataFrame(ls)\n",
    "df_pl_std = pd.DataFrame(ls_yerr)"
   ]
  },
  {
   "cell_type": "code",
   "execution_count": 45,
   "id": "f96692c2",
   "metadata": {},
   "outputs": [],
   "source": [
    "df_pl_av.to_csv('arg229_pl.csv')\n",
    "df_pl_std.to_csv('arg229_pl_err.csv')"
   ]
  },
  {
   "cell_type": "code",
   "execution_count": null,
   "id": "cffd7602",
   "metadata": {},
   "outputs": [],
   "source": []
  },
  {
   "cell_type": "code",
   "execution_count": null,
   "id": "2f860ed4",
   "metadata": {},
   "outputs": [],
   "source": []
  },
  {
   "cell_type": "code",
   "execution_count": 10,
   "id": "b5029891",
   "metadata": {},
   "outputs": [],
   "source": [
    "tg_1 =Coord().run(a,TG_A)\n",
    "tg_2 =Coord().run(a,TG_B)\n",
    "tg_3 =Coord().run(a,TG_C)\n",
    "tg_4 =Coord().run(a,TG_D)\n",
    "tg_5 =Coord().run(a,TG_E)\n",
    "\n"
   ]
  },
  {
   "cell_type": "code",
   "execution_count": 11,
   "id": "8ebb9d5d",
   "metadata": {},
   "outputs": [],
   "source": [
    "pls = u.select_atoms('resname POPC DOPE')\n",
    "number = pls.atoms.n_residues\n",
    "tgs = u.select_atoms('resname TRIO')\n",
    "number_tg = tgs.atoms.n_residues"
   ]
  },
  {
   "cell_type": "code",
   "execution_count": 12,
   "id": "b363750d",
   "metadata": {
    "scrolled": true
   },
   "outputs": [
    {
     "data": {
      "text/plain": [
       "250"
      ]
     },
     "execution_count": 12,
     "metadata": {},
     "output_type": "execute_result"
    }
   ],
   "source": [
    "number"
   ]
  },
  {
   "cell_type": "code",
   "execution_count": 13,
   "id": "e7cf2971",
   "metadata": {},
   "outputs": [
    {
     "data": {
      "text/plain": [
       "429"
      ]
     },
     "execution_count": 13,
     "metadata": {},
     "output_type": "execute_result"
    }
   ],
   "source": [
    "number_tg"
   ]
  },
  {
   "cell_type": "code",
   "execution_count": 14,
   "id": "2e1886e4",
   "metadata": {},
   "outputs": [],
   "source": [
    "a = pl_1/number\n",
    "b = pl_2/number\n",
    "c = pl_3/number\n",
    "d = pl_4/number\n",
    "e = pl_5/number\n",
    "f = pl_6/number\n",
    "g = pl_7/number"
   ]
  },
  {
   "cell_type": "code",
   "execution_count": 15,
   "id": "9905b5e7",
   "metadata": {},
   "outputs": [],
   "source": [
    "av_a  = np.average(a[:,1])\n",
    "av_b  = np.average(b[:,1])\n",
    "av_c  = np.average(c[:,1])\n",
    "av_d  = np.average(d[:,1])\n",
    "av_e  = np.average(e[:,1])\n",
    "av_f  = np.average(f[:,1])\n",
    "av_g  = np.average(g[:,1])"
   ]
  },
  {
   "cell_type": "code",
   "execution_count": null,
   "id": "2d2a08cd",
   "metadata": {},
   "outputs": [],
   "source": []
  },
  {
   "cell_type": "code",
   "execution_count": 43,
   "id": "442a77d6",
   "metadata": {},
   "outputs": [],
   "source": [
    "std_a  = np.std(a[:,1])\n",
    "std_b  = np.std(b[:,1])\n",
    "std_c  = np.std(c[:,1])\n",
    "std_d  = np.std(d[:,1])\n",
    "std_e  = np.std(e[:,1])\n",
    "std_f  = np.std(f[:,1])\n",
    "std_g  = np.std(g[:,1])"
   ]
  },
  {
   "cell_type": "code",
   "execution_count": null,
   "id": "0bb67db7",
   "metadata": {},
   "outputs": [],
   "source": []
  },
  {
   "cell_type": "code",
   "execution_count": 16,
   "id": "0c6602db",
   "metadata": {},
   "outputs": [],
   "source": [
    "av_a_no_norm  = np.average(pl_1[:,1])\n",
    "av_b_no_norm  = np.average(pl_2[:,1])\n",
    "av_c_no_norm  = np.average(pl_3[:,1])\n",
    "av_d_no_norm  = np.average(pl_4[:,1])\n",
    "av_e_no_norm  = np.average(pl_5[:,1])\n",
    "av_f_no_norm  = np.average(pl_6[:,1])\n",
    "av_g_no_norm  = np.average(pl_7[:,1])"
   ]
  },
  {
   "cell_type": "code",
   "execution_count": 17,
   "id": "9796c4bd",
   "metadata": {},
   "outputs": [],
   "source": [
    "av_a_no_norm_tg  = np.average(tg_1[:,1])\n",
    "av_b_no_norm_tg  = np.average(tg_2[:,1])\n",
    "av_c_no_norm_tg  = np.average(tg_3[:,1])\n",
    "av_d_no_norm_tg  = np.average(tg_4[:,1])\n",
    "av_e_no_norm_tg  = np.average(tg_5[:,1])\n"
   ]
  },
  {
   "cell_type": "code",
   "execution_count": 18,
   "id": "5d82c6d5",
   "metadata": {},
   "outputs": [],
   "source": [
    "a_tg = tg_1/number_tg\n",
    "b_tg = tg_2/number_tg\n",
    "c_tg = tg_3/number_tg\n",
    "d_tg = tg_4/number_tg\n",
    "e_tg = tg_5/number_tg\n"
   ]
  },
  {
   "cell_type": "code",
   "execution_count": 19,
   "id": "4b3c5eee",
   "metadata": {},
   "outputs": [],
   "source": [
    "av_a  = np.average(a[:,1])\n",
    "av_b  = np.average(b[:,1])\n",
    "av_c  = np.average(c[:,1])\n",
    "av_d  = np.average(d[:,1])\n",
    "av_e  = np.average(e[:,1])\n",
    "av_f  = np.average(f[:,1])\n",
    "av_g  = np.average(g[:,1])"
   ]
  },
  {
   "cell_type": "code",
   "execution_count": 20,
   "id": "c59a1e30",
   "metadata": {},
   "outputs": [],
   "source": [
    "av_tg_a  = np.average(a_tg[:,1])\n",
    "av_tg_b  = np.average(b_tg[:,1])\n",
    "av_tg_c  = np.average(c_tg[:,1])\n",
    "av_tg_d  = np.average(d_tg[:,1])\n",
    "av_tg_e  = np.average(e_tg[:,1])\n"
   ]
  },
  {
   "cell_type": "code",
   "execution_count": 21,
   "id": "7f90fba8",
   "metadata": {},
   "outputs": [],
   "source": [
    "ls_non_norm = (av_a_no_norm,av_b_no_norm,av_c_no_norm,av_d_no_norm,av_e_no_norm,av_f_no_norm,av_g_no_norm)\n",
    "ls_non_norm_tg = (av_a_no_norm_tg,av_b_no_norm_tg,av_c_no_norm_tg,av_e_no_norm_tg,av_e_no_norm_tg)"
   ]
  },
  {
   "cell_type": "code",
   "execution_count": 22,
   "id": "7cb5a1d8",
   "metadata": {
    "scrolled": true
   },
   "outputs": [
    {
     "data": {
      "text/plain": [
       "(0.3254891356088174,\n",
       " 0.5236330291351229,\n",
       " 0.39034510802933425,\n",
       " 0.36025460912487733,\n",
       " 0.05246479688296284,\n",
       " 0.035689418139301626,\n",
       " 0.013513402221643617)"
      ]
     },
     "execution_count": 22,
     "metadata": {},
     "output_type": "execute_result"
    }
   ],
   "source": [
    "ls_non_norm"
   ]
  },
  {
   "cell_type": "code",
   "execution_count": 23,
   "id": "f2e37b1a",
   "metadata": {},
   "outputs": [
    {
     "data": {
      "text/plain": [
       "(0.022308287382163932,\n",
       " 0.01733558879797877,\n",
       " 0.0014165512288265133,\n",
       " 0.003973314042704343,\n",
       " 0.003973314042704343)"
      ]
     },
     "execution_count": 23,
     "metadata": {},
     "output_type": "execute_result"
    }
   ],
   "source": [
    "ls_non_norm_tg"
   ]
  },
  {
   "cell_type": "code",
   "execution_count": null,
   "id": "1b1fe0c5",
   "metadata": {},
   "outputs": [],
   "source": []
  },
  {
   "cell_type": "code",
   "execution_count": 24,
   "id": "3e9678bd",
   "metadata": {
    "scrolled": true
   },
   "outputs": [],
   "source": [
    "ls=(av_a,av_b,av_c,av_d,av_e,av_f,av_g)"
   ]
  },
  {
   "cell_type": "code",
   "execution_count": 25,
   "id": "dc153a6f",
   "metadata": {},
   "outputs": [],
   "source": [
    "ls_tg=(av_tg_a,av_tg_b,av_tg_c,av_tg_d,av_tg_e)"
   ]
  },
  {
   "cell_type": "code",
   "execution_count": 26,
   "id": "cb51106e",
   "metadata": {
    "scrolled": true
   },
   "outputs": [
    {
     "data": {
      "text/plain": [
       "(5.200066988849401e-05,\n",
       " 4.040929789738641e-05,\n",
       " 3.3019842163788184e-06,\n",
       " 4.160091510258036e-06,\n",
       " 9.261804295348118e-06)"
      ]
     },
     "execution_count": 26,
     "metadata": {},
     "output_type": "execute_result"
    }
   ],
   "source": [
    "ls_tg"
   ]
  },
  {
   "cell_type": "code",
   "execution_count": 27,
   "id": "1228245f",
   "metadata": {
    "scrolled": true
   },
   "outputs": [
    {
     "data": {
      "text/plain": [
       "(0.0013019565424352696,\n",
       " 0.0020945321165404913,\n",
       " 0.0015613804321173372,\n",
       " 0.0014410184364995094,\n",
       " 0.00020985918753185133,\n",
       " 0.0001427576725572065,\n",
       " 5.405360888657446e-05)"
      ]
     },
     "execution_count": 27,
     "metadata": {},
     "output_type": "execute_result"
    }
   ],
   "source": [
    "ls"
   ]
  },
  {
   "cell_type": "code",
   "execution_count": 36,
   "id": "63c7dcae",
   "metadata": {},
   "outputs": [],
   "source": [
    "import pandas as pd\n",
    "import matplotlib.pyplot as plt"
   ]
  },
  {
   "cell_type": "code",
   "execution_count": 30,
   "id": "c320e4c7",
   "metadata": {},
   "outputs": [],
   "source": [
    "df_pl_av = pd.DataFrame(ls)"
   ]
  },
  {
   "cell_type": "code",
   "execution_count": 31,
   "id": "4a2ce1fe",
   "metadata": {},
   "outputs": [],
   "source": [
    "df_tg_av = pd.DataFrame(ls_tg)"
   ]
  },
  {
   "cell_type": "code",
   "execution_count": 32,
   "id": "fc6492ef",
   "metadata": {},
   "outputs": [],
   "source": [
    "df_pl_av.to_csv('arg_pl.csv')"
   ]
  },
  {
   "cell_type": "code",
   "execution_count": 33,
   "id": "7a80195b",
   "metadata": {},
   "outputs": [],
   "source": [
    "df_tg_av.to_csv('arg_tg.csv')"
   ]
  },
  {
   "cell_type": "code",
   "execution_count": null,
   "id": "38749aa4",
   "metadata": {},
   "outputs": [],
   "source": []
  },
  {
   "cell_type": "code",
   "execution_count": 38,
   "id": "64c1a718",
   "metadata": {},
   "outputs": [
    {
     "data": {
      "text/html": [
       "<div>\n",
       "<style scoped>\n",
       "    .dataframe tbody tr th:only-of-type {\n",
       "        vertical-align: middle;\n",
       "    }\n",
       "\n",
       "    .dataframe tbody tr th {\n",
       "        vertical-align: top;\n",
       "    }\n",
       "\n",
       "    .dataframe thead th {\n",
       "        text-align: right;\n",
       "    }\n",
       "</style>\n",
       "<table border=\"1\" class=\"dataframe\">\n",
       "  <thead>\n",
       "    <tr style=\"text-align: right;\">\n",
       "      <th></th>\n",
       "      <th>0</th>\n",
       "    </tr>\n",
       "  </thead>\n",
       "  <tbody>\n",
       "    <tr>\n",
       "      <th>0</th>\n",
       "      <td>0.000052</td>\n",
       "    </tr>\n",
       "    <tr>\n",
       "      <th>1</th>\n",
       "      <td>0.000040</td>\n",
       "    </tr>\n",
       "    <tr>\n",
       "      <th>2</th>\n",
       "      <td>0.000003</td>\n",
       "    </tr>\n",
       "    <tr>\n",
       "      <th>3</th>\n",
       "      <td>0.000004</td>\n",
       "    </tr>\n",
       "    <tr>\n",
       "      <th>4</th>\n",
       "      <td>0.000009</td>\n",
       "    </tr>\n",
       "  </tbody>\n",
       "</table>\n",
       "</div>"
      ],
      "text/plain": [
       "          0\n",
       "0  0.000052\n",
       "1  0.000040\n",
       "2  0.000003\n",
       "3  0.000004\n",
       "4  0.000009"
      ]
     },
     "execution_count": 38,
     "metadata": {},
     "output_type": "execute_result"
    }
   ],
   "source": [
    "df_tg_av"
   ]
  },
  {
   "cell_type": "code",
   "execution_count": null,
   "id": "4c381664",
   "metadata": {},
   "outputs": [],
   "source": []
  },
  {
   "cell_type": "code",
   "execution_count": null,
   "id": "3e4d79a6",
   "metadata": {},
   "outputs": [],
   "source": []
  },
  {
   "cell_type": "code",
   "execution_count": null,
   "id": "ec361458",
   "metadata": {},
   "outputs": [],
   "source": []
  },
  {
   "cell_type": "code",
   "execution_count": null,
   "id": "f730300e",
   "metadata": {},
   "outputs": [],
   "source": []
  },
  {
   "cell_type": "code",
   "execution_count": 51,
   "id": "9d240580",
   "metadata": {},
   "outputs": [],
   "source": [
    "av = df2.mean()\n",
    "std = df2.std()"
   ]
  },
  {
   "cell_type": "code",
   "execution_count": 52,
   "id": "8fd8441f",
   "metadata": {},
   "outputs": [
    {
     "data": {
      "text/plain": [
       "38.9987464793078"
      ]
     },
     "execution_count": 52,
     "metadata": {},
     "output_type": "execute_result"
    }
   ],
   "source": [
    "av[1]"
   ]
  },
  {
   "cell_type": "code",
   "execution_count": 53,
   "id": "146546b3",
   "metadata": {},
   "outputs": [
    {
     "data": {
      "text/plain": [
       "8.059117821598026"
      ]
     },
     "execution_count": 53,
     "metadata": {},
     "output_type": "execute_result"
    }
   ],
   "source": [
    "std[1]"
   ]
  },
  {
   "cell_type": "code",
   "execution_count": 54,
   "id": "12f8c3b2",
   "metadata": {},
   "outputs": [
    {
     "data": {
      "text/plain": [
       "0.031116285025475"
      ]
     },
     "execution_count": 54,
     "metadata": {},
     "output_type": "execute_result"
    }
   ],
   "source": [
    "std[1]/259"
   ]
  },
  {
   "cell_type": "code",
   "execution_count": 55,
   "id": "987309ea",
   "metadata": {},
   "outputs": [],
   "source": [
    "norm = av[1]/259"
   ]
  },
  {
   "cell_type": "code",
   "execution_count": 56,
   "id": "a6d42037",
   "metadata": {},
   "outputs": [
    {
     "data": {
      "text/plain": [
       "0.15057431073091815"
      ]
     },
     "execution_count": 56,
     "metadata": {},
     "output_type": "execute_result"
    }
   ],
   "source": [
    "norm"
   ]
  },
  {
   "cell_type": "code",
   "execution_count": null,
   "id": "878b73bc",
   "metadata": {},
   "outputs": [],
   "source": []
  },
  {
   "cell_type": "code",
   "execution_count": 59,
   "id": "00ad5553",
   "metadata": {},
   "outputs": [
    {
     "data": {
      "text/plain": [
       "0       0.014458\n",
       "1       0.016648\n",
       "2       0.014170\n",
       "3       0.014001\n",
       "4       0.011360\n",
       "          ...   \n",
       "1792    0.043977\n",
       "1793    0.050299\n",
       "1794    0.045252\n",
       "1795    0.045377\n",
       "1796    0.041509\n",
       "Name: iner coord, Length: 1797, dtype: float64"
      ]
     },
     "execution_count": 59,
     "metadata": {},
     "output_type": "execute_result"
    }
   ],
   "source": [
    "df2['iner coord']/259"
   ]
  },
  {
   "cell_type": "code",
   "execution_count": null,
   "id": "7fd994bd",
   "metadata": {},
   "outputs": [],
   "source": []
  },
  {
   "cell_type": "code",
   "execution_count": null,
   "id": "011ce09e",
   "metadata": {},
   "outputs": [],
   "source": []
  },
  {
   "cell_type": "code",
   "execution_count": 34,
   "id": "3e4aa296",
   "metadata": {},
   "outputs": [],
   "source": [
    "popc = u.select_atoms('resname POPC')\n",
    "dope = u.select_atoms('resname DOPE')\n",
    "sapi = u.select_atoms('resname SAPI')"
   ]
  },
  {
   "cell_type": "code",
   "execution_count": 35,
   "id": "050780ed",
   "metadata": {},
   "outputs": [],
   "source": [
    "a1=len(popc)/134\n",
    "b1=len(dope)/129\n",
    "c1=len(sapi)/143"
   ]
  },
  {
   "cell_type": "code",
   "execution_count": 36,
   "id": "93330deb",
   "metadata": {},
   "outputs": [
    {
     "data": {
      "text/plain": [
       "259.0"
      ]
     },
     "execution_count": 36,
     "metadata": {},
     "output_type": "execute_result"
    }
   ],
   "source": [
    "a1+b1+c1"
   ]
  },
  {
   "cell_type": "code",
   "execution_count": 54,
   "id": "e6dc6819",
   "metadata": {},
   "outputs": [
    {
     "data": {
      "text/plain": [
       "425.0"
      ]
     },
     "execution_count": 54,
     "metadata": {},
     "output_type": "execute_result"
    }
   ],
   "source": [
    "len(trio)/167"
   ]
  },
  {
   "cell_type": "code",
   "execution_count": 2,
   "id": "23ecf0b4",
   "metadata": {},
   "outputs": [
    {
     "name": "stdout",
     "output_type": "stream",
     "text": [
      "Iteration: 6\n",
      "Iteration: 7\n",
      "Iteration: 8\n",
      "Iteration: 9\n"
     ]
    }
   ],
   "source": [
    "for num in range(0,10):\n",
    "    if num <= 5:\n",
    "        continue\n",
    "    print(f'Iteration: {num}')"
   ]
  },
  {
   "cell_type": "code",
   "execution_count": null,
   "id": "058c4ee1",
   "metadata": {},
   "outputs": [],
   "source": []
  }
 ],
 "metadata": {
  "kernelspec": {
   "display_name": "Python 3 (ipykernel)",
   "language": "python",
   "name": "python3"
  },
  "language_info": {
   "codemirror_mode": {
    "name": "ipython",
    "version": 3
   },
   "file_extension": ".py",
   "mimetype": "text/x-python",
   "name": "python",
   "nbconvert_exporter": "python",
   "pygments_lexer": "ipython3",
   "version": "3.9.7"
  }
 },
 "nbformat": 4,
 "nbformat_minor": 5
}
