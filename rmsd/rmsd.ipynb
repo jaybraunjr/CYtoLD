{
 "cells": [
  {
   "cell_type": "code",
   "execution_count": 1,
   "id": "4cc4d6be",
   "metadata": {},
   "outputs": [],
   "source": [
    "import MDAnalysis as mda\n",
    "import MDAnalysis.analysis.rms\n",
    "import matplotlib.pyplot as plt\n",
    "import pandas as pd\n",
    "from MDAnalysis.analysis import rms\n"
   ]
  },
  {
   "cell_type": "code",
   "execution_count": 2,
   "id": "9153f8cb",
   "metadata": {},
   "outputs": [],
   "source": [
    "\n",
    "# Create a new Universe but only consider frames from start_frame onwards\n",
    "u = mda.Universe('../testing/run.gro', '../trajs/centered_trajectory_dcd.xtc')"
   ]
  },
  {
   "cell_type": "code",
   "execution_count": 3,
   "id": "3e58d5d1",
   "metadata": {},
   "outputs": [],
   "source": [
    "start_frame = 1  # replace with your desired start frame\n"
   ]
  },
  {
   "cell_type": "code",
   "execution_count": 4,
   "id": "44282e11",
   "metadata": {},
   "outputs": [],
   "source": [
    "R = rms.RMSD(u,  # universe to align\n",
    "             u,  # reference universe or atomgroup\n",
    "             select='name CA and resid 1-162',  # group to superimpose and calculate RMSD\n",
    "             groupselections=['name CA and resid 1-162'],  # groups for RMSD\n",
    "             ref_frame=2)  # frame index of the reference\n"
   ]
  },
  {
   "cell_type": "code",
   "execution_count": 5,
   "id": "2f9cabb7",
   "metadata": {},
   "outputs": [
    {
     "data": {
      "text/plain": [
       "<MDAnalysis.analysis.rms.RMSD at 0x7fe5c4307f70>"
      ]
     },
     "execution_count": 5,
     "metadata": {},
     "output_type": "execute_result"
    }
   ],
   "source": [
    "R"
   ]
  },
  {
   "cell_type": "code",
   "execution_count": 6,
   "id": "d6844803",
   "metadata": {},
   "outputs": [
    {
     "data": {
      "text/plain": [
       "<MDAnalysis.analysis.rms.RMSD at 0x7fe5c4307f70>"
      ]
     },
     "execution_count": 6,
     "metadata": {},
     "output_type": "execute_result"
    }
   ],
   "source": [
    "R.run(start=start_frame, stop=None)"
   ]
  },
  {
   "cell_type": "code",
   "execution_count": 7,
   "id": "955156f1",
   "metadata": {},
   "outputs": [
    {
     "name": "stderr",
     "output_type": "stream",
     "text": [
      "/home/jaybraun/miniconda3/lib/python3.9/site-packages/MDAnalysis/analysis/rms.py:710: DeprecationWarning: The `rmsd` attribute was deprecated in MDAnalysis 2.0.0 and will be removed in MDAnalysis 3.0.0. Please use `results.rmsd` instead.\n",
      "  warnings.warn(wmsg, DeprecationWarning)\n"
     ]
    }
   ],
   "source": [
    "df = pd.DataFrame(R.rmsd,\n",
    "                  columns=['Frame', 'Frame (ns)',\n",
    "                           'Backbone', 'protein'])"
   ]
  },
  {
   "cell_type": "code",
   "execution_count": 8,
   "id": "13d40260",
   "metadata": {
    "scrolled": true
   },
   "outputs": [
    {
     "data": {
      "text/html": [
       "<div>\n",
       "<style scoped>\n",
       "    .dataframe tbody tr th:only-of-type {\n",
       "        vertical-align: middle;\n",
       "    }\n",
       "\n",
       "    .dataframe tbody tr th {\n",
       "        vertical-align: top;\n",
       "    }\n",
       "\n",
       "    .dataframe thead th {\n",
       "        text-align: right;\n",
       "    }\n",
       "</style>\n",
       "<table border=\"1\" class=\"dataframe\">\n",
       "  <thead>\n",
       "    <tr style=\"text-align: right;\">\n",
       "      <th></th>\n",
       "      <th>Frame</th>\n",
       "      <th>Frame (ns)</th>\n",
       "      <th>Backbone</th>\n",
       "      <th>protein</th>\n",
       "    </tr>\n",
       "  </thead>\n",
       "  <tbody>\n",
       "    <tr>\n",
       "      <th>0</th>\n",
       "      <td>1.0</td>\n",
       "      <td>100.0</td>\n",
       "      <td>1.440418e+00</td>\n",
       "      <td>1.440418</td>\n",
       "    </tr>\n",
       "    <tr>\n",
       "      <th>1</th>\n",
       "      <td>2.0</td>\n",
       "      <td>200.0</td>\n",
       "      <td>4.806067e-07</td>\n",
       "      <td>0.000000</td>\n",
       "    </tr>\n",
       "    <tr>\n",
       "      <th>2</th>\n",
       "      <td>3.0</td>\n",
       "      <td>300.0</td>\n",
       "      <td>1.144465e+00</td>\n",
       "      <td>1.144465</td>\n",
       "    </tr>\n",
       "    <tr>\n",
       "      <th>3</th>\n",
       "      <td>4.0</td>\n",
       "      <td>400.0</td>\n",
       "      <td>1.988522e+00</td>\n",
       "      <td>1.988522</td>\n",
       "    </tr>\n",
       "    <tr>\n",
       "      <th>4</th>\n",
       "      <td>5.0</td>\n",
       "      <td>500.0</td>\n",
       "      <td>1.378254e+00</td>\n",
       "      <td>1.378254</td>\n",
       "    </tr>\n",
       "    <tr>\n",
       "      <th>...</th>\n",
       "      <td>...</td>\n",
       "      <td>...</td>\n",
       "      <td>...</td>\n",
       "      <td>...</td>\n",
       "    </tr>\n",
       "    <tr>\n",
       "      <th>921</th>\n",
       "      <td>922.0</td>\n",
       "      <td>92200.0</td>\n",
       "      <td>2.779732e+00</td>\n",
       "      <td>2.779731</td>\n",
       "    </tr>\n",
       "    <tr>\n",
       "      <th>922</th>\n",
       "      <td>923.0</td>\n",
       "      <td>92300.0</td>\n",
       "      <td>2.732355e+00</td>\n",
       "      <td>2.732356</td>\n",
       "    </tr>\n",
       "    <tr>\n",
       "      <th>923</th>\n",
       "      <td>924.0</td>\n",
       "      <td>92400.0</td>\n",
       "      <td>3.079269e+00</td>\n",
       "      <td>3.079269</td>\n",
       "    </tr>\n",
       "    <tr>\n",
       "      <th>924</th>\n",
       "      <td>925.0</td>\n",
       "      <td>92500.0</td>\n",
       "      <td>2.951470e+00</td>\n",
       "      <td>2.951470</td>\n",
       "    </tr>\n",
       "    <tr>\n",
       "      <th>925</th>\n",
       "      <td>926.0</td>\n",
       "      <td>92600.0</td>\n",
       "      <td>2.938052e+00</td>\n",
       "      <td>2.938052</td>\n",
       "    </tr>\n",
       "  </tbody>\n",
       "</table>\n",
       "<p>926 rows × 4 columns</p>\n",
       "</div>"
      ],
      "text/plain": [
       "     Frame  Frame (ns)      Backbone   protein\n",
       "0      1.0       100.0  1.440418e+00  1.440418\n",
       "1      2.0       200.0  4.806067e-07  0.000000\n",
       "2      3.0       300.0  1.144465e+00  1.144465\n",
       "3      4.0       400.0  1.988522e+00  1.988522\n",
       "4      5.0       500.0  1.378254e+00  1.378254\n",
       "..     ...         ...           ...       ...\n",
       "921  922.0     92200.0  2.779732e+00  2.779731\n",
       "922  923.0     92300.0  2.732355e+00  2.732356\n",
       "923  924.0     92400.0  3.079269e+00  3.079269\n",
       "924  925.0     92500.0  2.951470e+00  2.951470\n",
       "925  926.0     92600.0  2.938052e+00  2.938052\n",
       "\n",
       "[926 rows x 4 columns]"
      ]
     },
     "execution_count": 8,
     "metadata": {},
     "output_type": "execute_result"
    }
   ],
   "source": [
    "df"
   ]
  },
  {
   "cell_type": "code",
   "execution_count": 9,
   "id": "0575ffcf",
   "metadata": {},
   "outputs": [],
   "source": [
    "import numpy as np"
   ]
  },
  {
   "cell_type": "code",
   "execution_count": 12,
   "id": "f0d01fc2",
   "metadata": {},
   "outputs": [
    {
     "data": {
      "image/png": "[encoded data removed]",
      "text/plain": [
       "<Figure size 400x400 with 1 Axes>"
      ]
     },
     "metadata": {},
     "output_type": "display_data"
    }
   ],
   "source": [
    "fig, ax = plt.subplots(figsize=(4, 4))\n",
    "\n",
    "# ax.plot(df['Frame'], df['Backbone'], label='Backbone', color='red', linestyle='-', linewidth=4)\n",
    "\n",
    "time_per_frame_ns = 9e3 / 1000  # replace with actual time per frame\n",
    "\n",
    "# Create a new column 'Time (µs)' in the DataFrame\n",
    "df['Time (µs)'] = df['Frame (ns)'] * time_per_frame_ns / 1000\n",
    "\n",
    "# Now plot with the correct time\n",
    "ax.plot(df['Time (µs)'], df['Backbone'])\n",
    "ax.set_xlabel('Time (ns)')\n",
    "\n",
    "# ax.set_xlabel('ns', fontsize=14)\n",
    "ax.set_ylabel(r'RMSD ($\\AA$)', fontsize=14)\n",
    "ax.set_title('backbone RMSD', fontsize=14)\n",
    "ax.set_ylim([0, 8])  # set y-limit\n",
    "\n",
    "# ax.legend(fontsize=12)\n",
    "\n",
    "\n",
    "# Original data goes from 0 to 2 µs\n",
    "# original_ticks = np.linspace(1, 2, num=5)\n",
    "\n",
    "# # You want to relabel this to go from 2.5 to 4.5 µs\n",
    "# new_tick_labels = np.linspace(2.5, 4.5, num=5)\n",
    "\n",
    "# ax.set_xticks(original_ticks)\n",
    "# ax.set_xticklabels(new_tick_labels)\n",
    "\n",
    "plt.savefig('../figs/rmsd_dcd.png',dpi = 400)\n",
    "plt.show()"
   ]
  },
  {
   "cell_type": "code",
   "execution_count": 62,
   "id": "a6b82eab",
   "metadata": {},
   "outputs": [
    {
     "data": {
      "image/png": "[encoded data removed]",
      "text/plain": [
       "<Figure size 640x480 with 1 Axes>"
      ]
     },
     "metadata": {},
     "output_type": "display_data"
    }
   ],
   "source": [
    "# Define your time per frame (in ns)\n",
    "# You should replace this with the actual time per frame in your simulation\n",
    "time_per_frame_ns = 8e3 / 1000  # replace with actual time per frame\n",
    "\n",
    "# Create a new column 'Time (µs)' in the DataFrame\n",
    "df['Time (µs)'] = df['Frame (ns)'] * time_per_frame_ns / 1000\n",
    "\n",
    "# Now plot with the correct time\n",
    "plt.plot(df['Time (µs)'], df['Backbone'])\n",
    "plt.xlabel('Time (µs)')\n",
    "plt.ylabel('Backbone RMSD')\n",
    "plt.show()"
   ]
  },
  {
   "cell_type": "code",
   "execution_count": 96,
   "id": "b4b8a768",
   "metadata": {},
   "outputs": [
    {
     "data": {
      "text/plain": [
       "< Timestep 926 with unit cell dimensions [ 96.64447  96.64447 248.43683  90.       90.       90.     ] >"
      ]
     },
     "execution_count": 96,
     "metadata": {},
     "output_type": "execute_result"
    }
   ],
   "source": [
    "u.trajectory[-1] "
   ]
  },
  {
   "cell_type": "code",
   "execution_count": 30,
   "id": "dc8e6146",
   "metadata": {},
   "outputs": [
    {
     "name": "stderr",
     "output_type": "stream",
     "text": [
      "/home/jaybraun/miniconda3/lib/python3.9/site-packages/Bio/pairwise2.py:278: BiopythonDeprecationWarning: Bio.pairwise2 has been deprecated, and we intend to remove it in a future release of Biopython. As an alternative, please consider using Bio.Align.PairwiseAligner as a replacement, and contact the Biopython developers if you still need the Bio.pairwise2 module.\n",
      "  warnings.warn(\n"
     ]
    },
    {
     "data": {
      "application/vnd.jupyter.widget-view+json": {
       "model_id": "345d5591697c41d691c749435f5101af",
       "version_major": 2,
       "version_minor": 0
      },
      "text/plain": []
     },
     "metadata": {},
     "output_type": "display_data"
    }
   ],
   "source": [
    "import MDAnalysis as mda\n",
    "# from MDAnalysisData import datasets\n",
    "from MDAnalysis.analysis import rms, align\n",
    "import nglview as nv\n"
   ]
  },
  {
   "cell_type": "code",
   "execution_count": 31,
   "id": "274dd745",
   "metadata": {},
   "outputs": [
    {
     "name": "stderr",
     "output_type": "stream",
     "text": [
      "/home/jaybraun/miniconda3/lib/python3.9/site-packages/MDAnalysis/analysis/align.py:950: DeprecationWarning: The `universe` attribute was deprecated in MDAnalysis 2.0.0 and will be removed in MDAnalysis 3.0.0. Please use `results.universe` instead.\n",
      "  warnings.warn(wmsg, DeprecationWarning)\n"
     ]
    }
   ],
   "source": [
    "average = align.AverageStructure(u, u, select='protein and name CA',\n",
    "                                 ref_frame=1000).run()\n",
    "ref = average.universe"
   ]
  },
  {
   "cell_type": "code",
   "execution_count": 36,
   "id": "ecb252a5",
   "metadata": {},
   "outputs": [],
   "source": [
    "c_alphas = u.select_atoms('backbone')\n",
    "R = rms.RMSF(c_alphas).run()"
   ]
  },
  {
   "cell_type": "code",
   "execution_count": 37,
   "id": "2ec9aee0",
   "metadata": {},
   "outputs": [],
   "source": [
    "import matplotlib.pyplot as plt\n",
    "%matplotlib inline"
   ]
  },
  {
   "cell_type": "code",
   "execution_count": 39,
   "id": "2096fb4d",
   "metadata": {
    "scrolled": true
   },
   "outputs": [
    {
     "name": "stderr",
     "output_type": "stream",
     "text": [
      "No artists with labels found to put in legend.  Note that artists whose label start with an underscore are ignored when legend() is called with no argument.\n"
     ]
    },
    {
     "data": {
      "image/png": "[encoded data removed]",
      "text/plain": [
       "<Figure size 640x480 with 1 Axes>"
      ]
     },
     "metadata": {},
     "output_type": "display_data"
    }
   ],
   "source": [
    "plt.plot(c_alphas.resids, R.rmsf)\n",
    "plt.xlabel('Residue number')\n",
    "plt.ylabel('RMSF ($\\AA$)')\n",
    "\n",
    "plt.legend();"
   ]
  },
  {
   "cell_type": "code",
   "execution_count": 2,
   "id": "07932e68",
   "metadata": {},
   "outputs": [],
   "source": [
    "import MDAnalysis as mda"
   ]
  },
  {
   "cell_type": "code",
   "execution_count": 1,
   "id": "d512b830",
   "metadata": {},
   "outputs": [
    {
     "name": "stderr",
     "output_type": "stream",
     "text": [
      "/home/jaybraun/miniconda3/lib/python3.9/site-packages/Bio/pairwise2.py:278: BiopythonDeprecationWarning: Bio.pairwise2 has been deprecated, and we intend to remove it in a future release of Biopython. As an alternative, please consider using Bio.Align.PairwiseAligner as a replacement, and contact the Biopython developers if you still need the Bio.pairwise2 module.\n",
      "  warnings.warn(\n"
     ]
    }
   ],
   "source": [
    "from MDAnalysis.analysis import align"
   ]
  },
  {
   "cell_type": "code",
   "execution_count": 68,
   "id": "ce914503",
   "metadata": {},
   "outputs": [
    {
     "data": {
      "application/vnd.jupyter.widget-view+json": {
       "model_id": "81f98cb58799477092daaf2c8a99f10b",
       "version_major": 2,
       "version_minor": 0
      },
      "text/plain": []
     },
     "metadata": {},
     "output_type": "display_data"
    }
   ],
   "source": [
    "import nglview as nv"
   ]
  },
  {
   "cell_type": "code",
   "execution_count": 51,
   "id": "8a4cf8b8",
   "metadata": {},
   "outputs": [],
   "source": [
    "import MDAnalysis as mda\n",
    "from MDAnalysis.coordinates import XTC\n",
    "\n",
    "# Load the Universe with the topology and trajectory files\n",
    "u = mda.Universe('../testing/6.6_2.gro', '../trajs/9._skip10.xtc')\n",
    "\n",
    "# Select the protein\n",
    "protein = u.select_atoms('protein')\n",
    "\n",
    "# Define the center of the box in x and y\n",
    "center = u.dimensions[:2] / 2.0\n",
    "\n",
    "with XTC.XTCWriter('../trajs/centered_trajectory_mlx_5.xtc', u.atoms.n_atoms) as W:\n",
    "    for ts in u.trajectory:\n",
    "        # Calculate the center of mass of the protein in the x-y plane\n",
    "        com = protein.center_of_mass()[:2]\n",
    "        # Calculate the translation vector, leaving z unchanged\n",
    "        translation_vector = center - com\n",
    "        translation_vector = [*translation_vector, 0.0]\n",
    "\n",
    "        # Translate the protein so its center of mass is at the center of the box in the x-y plane\n",
    "        protein.translate(translation_vector)\n",
    "        \n",
    "        # Write the entire Universe (including all molecules) to the trajectory\n",
    "        W.write(u.atoms)"
   ]
  },
  {
   "cell_type": "code",
   "execution_count": 66,
   "id": "634ccd48",
   "metadata": {},
   "outputs": [
    {
     "name": "stderr",
     "output_type": "stream",
     "text": [
      "/home/jaybraun/miniconda3/lib/python3.9/site-packages/Bio/pairwise2.py:278: BiopythonDeprecationWarning: Bio.pairwise2 has been deprecated, and we intend to remove it in a future release of Biopython. As an alternative, please consider using Bio.Align.PairwiseAligner as a replacement, and contact the Biopython developers if you still need the Bio.pairwise2 module.\n",
      "  warnings.warn(\n"
     ]
    }
   ],
   "source": [
    "from MDAnalysis.analysis import align"
   ]
  },
  {
   "cell_type": "code",
   "execution_count": 31,
   "id": "8d320c22",
   "metadata": {},
   "outputs": [],
   "source": [
    "# Load your universes\n",
    "universes = [mda.Universe('../trajs/mlx1.gro','../trajs/mlx1.xtc'),\n",
    "             mda.Universe('../trajs/mlx1.gro','../trajs/mlx2.xtc'),\n",
    "             mda.Universe('../trajs/mlx1.gro','../trajs/mlx3.xtc'),\n",
    "             mda.Universe('../trajs/mlx1.gro','../trajs/mlx4.xtc'),\n",
    "             mda.Universe('../trajs/mlx1.gro','../trajs/mlx5.xtc')]\n",
    "\n",
    "# Set each universe to the last frame\n",
    "for universe in universes:\n",
    "    universe.trajectory[-1]  # last frame\n",
    "\n",
    "# Align all universes to the first one\n",
    "for universe in universes[1:]:\n",
    "    align.alignto(universe, universes[0], select='name CA', match_atoms=True)\n",
    "\n",
    "# Merge all universes for visualization\n",
    "merged = mda.Merge(*[universe.atoms for universe in universes])\n",
    "\n",
    "# Display in nglview\n",
    "view = nv.show_mdanalysis(merged)"
   ]
  },
  {
   "cell_type": "code",
   "execution_count": 80,
   "id": "9379e553",
   "metadata": {},
   "outputs": [],
   "source": [
    "# Load your universes THIS is for bsc2\n",
    "universes = [mda.Universe('../bsc2_trajs/test.gro','../bsc2_trajs/test.xtc'),\n",
    "             mda.Universe('../bsc2_trajs/tg/test.gro','../bsc2_trajs/tg/test.xtc')]\n",
    "\n",
    "# Set each universe to the last frame\n",
    "for universe in universes:\n",
    "    universe.trajectory[-1]  # last frame\n",
    "\n",
    "# Align all universes to the first one\n",
    "for universe in universes[1:]:\n",
    "    align.alignto(universe, universes[0], select='name CA', match_atoms=True)\n",
    "\n",
    "# Merge all universes for visualization\n",
    "merged = mda.Merge(*[universe.atoms for universe in universes])\n",
    "\n",
    "# Display in nglview\n",
    "view = nv.show_mdanalysis(merged)"
   ]
  },
  {
   "cell_type": "code",
   "execution_count": 81,
   "id": "14908ace",
   "metadata": {
    "scrolled": true
   },
   "outputs": [
    {
     "data": {
      "application/vnd.jupyter.widget-view+json": {
       "model_id": "4bcdf2266b224515a9287a8cc02951fd",
       "version_major": 2,
       "version_minor": 0
      },
      "text/plain": [
       "NGLWidget()"
      ]
     },
     "metadata": {},
     "output_type": "display_data"
    }
   ],
   "source": [
    "view"
   ]
  },
  {
   "cell_type": "code",
   "execution_count": 78,
   "id": "bb8d7e14",
   "metadata": {},
   "outputs": [
    {
     "data": {
      "application/vnd.jupyter.widget-view+json": {
       "model_id": "df277a4f908a407a9fbb6bffb2974b9d",
       "version_major": 2,
       "version_minor": 0
      },
      "text/plain": [
       "NGLWidget(n_components=1)"
      ]
     },
     "metadata": {},
     "output_type": "display_data"
    }
   ],
   "source": [
    "view"
   ]
  },
  {
   "cell_type": "code",
   "execution_count": 73,
   "id": "d38e9dfc",
   "metadata": {},
   "outputs": [],
   "source": [
    "# Write the output to a GRO file\n",
    "with mda.Writer('../trajs/output2.gro', merged.atoms) as writer:\n",
    "    writer.write(merged)"
   ]
  },
  {
   "cell_type": "code",
   "execution_count": 83,
   "id": "d885947f",
   "metadata": {},
   "outputs": [],
   "source": [
    "# Render the view\n",
    "view.render_image()\n",
    "\n",
    "# Download the screenshot\n",
    "view.download_image('../bsc2_figs/screenshot.png')"
   ]
  },
  {
   "cell_type": "code",
   "execution_count": null,
   "id": "d4bc1a0a",
   "metadata": {},
   "outputs": [],
   "source": []
  }
 ],
 "metadata": {
  "kernelspec": {
   "display_name": "Python 3 (ipykernel)",
   "language": "python",
   "name": "python3"
  },
  "language_info": {
   "codemirror_mode": {
    "name": "ipython",
    "version": 3
   },
   "file_extension": ".py",
   "mimetype": "text/x-python",
   "name": "python",
   "nbconvert_exporter": "python",
   "pygments_lexer": "ipython3",
   "version": "3.9.7"
  }
 },
 "nbformat": 4,
 "nbformat_minor": 5
}
